{
 "cells": [
  {
   "cell_type": "code",
   "execution_count": null,
   "metadata": {},
   "outputs": [],
   "source": [
    "import os\n",
    "import time\n",
    "import json\n",
    "import hashlib\n",
    "import requests\n",
    "from pprint import PrettyPrinter\n",
    "from urllib.request import urlretrieve\n",
    "\n",
    "pp = PrettyPrinter()\n",
    "pp = PrettyPrinter()"
   ]
  },
  {
   "cell_type": "code",
   "execution_count": null,
   "metadata": {},
   "outputs": [],
   "source": [
    "api_keys=['RdI8B7bboNhai0ThgvLyy19BZyKt6g5X1QOxlnlW','ZCXkLcQfMhHPRc7tDftsMV6dGxJ8NoI23h2pzR2V','c95oW7jwwwQ4Xjqph9sKGXWfstMbLM3I3MBm46og','EbV5fIWkOzIizf9QbnmFURuV8GdBQt8x3EhES6Fg']"
   ]
  },
  {
   "cell_type": "markdown",
   "metadata": {},
   "source": [
    "### Let’s start by writing a function to consume the APOD API"
   ]
  },
  {
   "cell_type": "markdown",
   "metadata": {},
   "source": [
    "Test´s"
   ]
  },
  {
   "cell_type": "code",
   "execution_count": null,
   "metadata": {},
   "outputs": [
    {
     "data": {
      "text/plain": [
       "{'date': '2001-07-27',\n",
       " 'explanation': \"If you've been unhappy with the weather on Earth, check out Mars, now in the grip of a planet-wide dust storm. Above, observations from the orbiting Mars Global Surveyor (MGS) spacecraft illustrate the storm's progress through July 21. The series of dated frames show measurements from the MGS Thermal Emission Spectrometer which can determine both temperature and amount of atmospheric dust. Dust data has been plotted on maps of the martian surface with blue representing relatively clear atmosphere and red colors indicating increasing concentrations of dust. In mid June, scientists first noticed the beginnings of the storm in Mars' southern hemisphere and have watched it grow to obscure most of the planet. Unfortunately for Mars-watchers, the timing of the storm has hidden the Red Planet's surface from view during its period of close approach to planet Earth.\",\n",
       " 'hdurl': 'https://apod.nasa.gov/apod/image/0107/dustframe_tes_big.gif',\n",
       " 'media_type': 'image',\n",
       " 'service_version': 'v1',\n",
       " 'title': 'Martian Dust Storm',\n",
       " 'url': 'https://apod.nasa.gov/apod/image/0107/dustframe_tes.jpg'}"
      ]
     },
     "metadata": {},
     "output_type": "display_data"
    }
   ],
   "source": [
    "def fetchAPOD():\n",
    "  URL_APOD = \"https://api.nasa.gov/planetary/apod\"\n",
    "  date = '2001-07-27'\n",
    "  params = {\n",
    "      'api_key':apiKey,\n",
    "      'date':date,\n",
    "      'hd':'True'\n",
    "  }\n",
    "  response = requests.get(URL_APOD,params=params).json()\n",
    "  # pp.pprint(response)\n",
    "  return response\n",
    "fetchAPOD()"
   ]
  },
  {
   "cell_type": "markdown",
   "metadata": {},
   "source": [
    "Range of dates test´s"
   ]
  },
  {
   "cell_type": "code",
   "execution_count": null,
   "metadata": {},
   "outputs": [
    {
     "data": {
      "text/plain": [
       "[{'concepts': 'concept_tags functionality turned off in current service',\n",
       "  'copyright': '\\nJose Mtanous\\n',\n",
       "  'date': '2020-01-22',\n",
       "  'explanation': \"It is the closest cluster of stars to the Sun. The Hyades open cluster is bright enough to have been remarked on even thousands of years ago, yet is not as bright or compact as the nearby Pleiades (M45) star cluster. Pictured here is a particularly deep image of the Hyades which has brings out vivid star colors and faint coincidental nebulas.  The brightest star in the field is yellow Aldebaran, the eye of the bull toward the constellation of Taurus. Aldebaran, at 65 light-years away, is now known to be unrelated to the Hyades cluster, which lies about 150 light-years away.  The central Hyades stars are spread out over about 15 light-years. Formed about 625 million years ago, the Hyades likely shares a common origin with the Beehive cluster (M44), a naked-eye open star cluster toward the constellation of Cancer, based on M44's motion through space and remarkably similar age.\",\n",
       "  'hdurl': 'https://apod.nasa.gov/apod/image/2001/Hyades_Mtanous_1998.jpg',\n",
       "  'media_type': 'image',\n",
       "  'service_version': 'v1',\n",
       "  'title': 'The Hyades Star Cluster',\n",
       "  'url': 'https://apod.nasa.gov/apod/image/2001/Hyades_Mtanous_1080.jpg'},\n",
       " {'concepts': 'concept_tags functionality turned off in current service',\n",
       "  'copyright': 'Jose Joaquin Perez',\n",
       "  'date': '2020-01-23',\n",
       "  'explanation': \"Some 13,000 light-years away toward the southern constellation Pavo, the globular star cluster NGC 6752 roams the halo of our Milky Way galaxy. Over 10 billion years old, NGC 6752 follows clusters Omega Centauri and 47 Tucanae as the third brightest globular in planet Earth's night sky. It holds over 100 thousand stars in a sphere about 100 light-years in diameter. Telescopic explorations of the NGC 6752 have found that a remarkable fraction of the stars near the cluster's core, are multiple star systems. They also reveal the presence of blue straggle stars, stars which appear to be too young and massive to exist in a cluster whose stars are all expected to be at least twice as old as the Sun. The blue stragglers are thought to be formed by star mergers and collisions in the dense stellar environment at the cluster's core. This sharp color composite also features the cluster's ancient red giant stars in yellowish hues. (Note: The bright, spiky blue star at 11 o'clock from the cluster center is a foreground star along the line-of-sight to NGC 6752)\",\n",
       "  'hdurl': 'https://apod.nasa.gov/apod/image/2001/NGC6752LRGBcrop.jpg',\n",
       "  'media_type': 'image',\n",
       "  'service_version': 'v1',\n",
       "  'title': 'Globular Star Cluster NGC 6752',\n",
       "  'url': 'https://apod.nasa.gov/apod/image/2001/NGC6752LRGBcrop1024.jpg'}]"
      ]
     },
     "metadata": {},
     "output_type": "display_data"
    }
   ],
   "source": [
    "def fetchAPOD_2(start_date, end_date):\n",
    "  URL_APOD = \"https://api.nasa.gov/planetary/apod\"\n",
    "  params = {\n",
    "      'api_key':apiKey,\n",
    "      'start_date': start_date,\n",
    "      'end_date': end_date,\n",
    "      'hd':'True',\n",
    "      'concept_tags': 'True'\n",
    "  }\n",
    "  response = requests.get(URL_APOD,params=params).json()\n",
    "  #pp.pprint(response)\n",
    "  return response\n",
    "fetchAPOD_2(\"2020-01-22\",\"2020-01-23\")"
   ]
  },
  {
   "cell_type": "code",
   "execution_count": null,
   "metadata": {},
   "outputs": [],
   "source": [
    "# Download image from URL and store to file\n",
    "def download_image(url):\n",
    "    response = requests.get(url)\n",
    "    image = response.content\n",
    "    hash = generate_hash(image)\n",
    "    if response.headers[\"Content-Type\"] == \"image/png\":\n",
    "        extension = \"png\"\n",
    "    elif response.headers[\"Content-Type\"] == \"image/jpeg\":\n",
    "        extension = \"jpg\"\n",
    "    if not os.path.exists(f'{PATH}/data/{hash}'):\n",
    "        os.mkdir(f'{PATH}/data/{hash}/')\n",
    "        #print(f'{PATH}/data/{hash}/{hash}.{extension}')\n",
    "    with open(f'{PATH}/data/{hash}/{hash}.{extension}', 'wb+') as f:\n",
    "        f.write(image)\n",
    "    return hash, extension\n",
    "\n",
    "# Generate a hash for the image\n",
    "def generate_hash(image):\n",
    "    hash = hashlib.sha256(image).hexdigest()\n",
    "    return hash"
   ]
  },
  {
   "cell_type": "code",
   "execution_count": null,
   "metadata": {},
   "outputs": [],
   "source": [
    "#def main():\n",
    "response = fetchAPOD()\n",
    "hash, extension = download_image(response[\"url\"])\n",
    "with open(f\"{PATH}/data/{hash}/response.json\", 'w') as f:\n",
    "    json.dump(response, f)"
   ]
  }
 ],
 "metadata": {
  "language_info": {
   "name": "python"
  }
 },
 "nbformat": 4,
 "nbformat_minor": 2
}
